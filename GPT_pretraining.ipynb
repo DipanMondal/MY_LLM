{
 "cells": [
  {
   "cell_type": "code",
   "execution_count": null,
   "id": "cd87527d-72ef-4e34-9ab8-f6260a23b317",
   "metadata": {
    "execution": {
     "iopub.status.busy": "2025-03-23T18:52:36.481654Z",
     "iopub.status.idle": "2025-03-23T18:52:36.482034Z",
     "shell.execute_reply": "2025-03-23T18:52:36.481858Z"
    }
   },
   "outputs": [],
   "source": [
    "!pip install tiktoken\n",
    "!pip install PyPDF2"
   ]
  },
  {
   "cell_type": "code",
   "execution_count": 1,
   "id": "df96db4b",
   "metadata": {
    "execution": {
     "iopub.status.busy": "2025-03-23T18:52:36.482844Z",
     "iopub.status.idle": "2025-03-23T18:52:36.483208Z",
     "shell.execute_reply": "2025-03-23T18:52:36.483053Z"
    }
   },
   "outputs": [],
   "source": [
    "import torch\n",
    "from torch import nn\n",
    "import tiktoken"
   ]
  },
  {
   "cell_type": "code",
   "execution_count": 2,
   "id": "5e59d698",
   "metadata": {
    "execution": {
     "iopub.status.busy": "2025-03-23T18:52:36.483934Z",
     "iopub.status.idle": "2025-03-23T18:52:36.484302Z",
     "shell.execute_reply": "2025-03-23T18:52:36.484150Z"
    }
   },
   "outputs": [],
   "source": [
    "import torch\n",
    "from torch import nn\n",
    "from torch.utils.data import Dataset, DataLoader\n",
    "\n",
    "\n",
    "# Data Set class\n",
    "class LLMDataset(Dataset):\n",
    "    def __init__(self, text, tokenizer, max_length, stride):\n",
    "        self.input_ids = []\n",
    "        self.target_ids = []\n",
    "        \n",
    "        token_ids = tokenizer.encode(text, allowed_special={\"<|endoftext|>\"})\n",
    "        \n",
    "        for i in range(0, len(token_ids)-max_length, stride):\n",
    "            inp_chk = token_ids[i: i+max_length]\n",
    "            target_chk = token_ids[i+1: i+max_length+1]\n",
    "            self.input_ids.append(torch.Tensor(inp_chk).to(dtype=torch.long))\n",
    "            self.target_ids.append(torch.Tensor(target_chk).to(dtype=torch.long))\n",
    "    \n",
    "    def __len__(self):\n",
    "        return len(self.input_ids)\n",
    "    \n",
    "    def __getitem__(self, idx):\n",
    "        return self.input_ids[idx],self.target_ids[idx]\n",
    "\n",
    "\n",
    "# Data Loader\n",
    "def create_data_loader(text, tokenizer, batch_size=64, max_length=256, stride=128, shuffle=True, drop_last=True, num_workers=0):\n",
    "    dataset = LLMDataset(text=text, tokenizer=tokenizer, max_length=6,stride=2)\n",
    "    dataloader = DataLoader(\n",
    "        dataset=dataset,\n",
    "        batch_size=batch_size,\n",
    "        shuffle=shuffle,\n",
    "        drop_last=drop_last,\n",
    "        num_workers=num_workers\n",
    "    )\n",
    "    return dataloader\n",
    "\n",
    "\n",
    "# GeLU Function\n",
    "class GeLU(nn.Module):\n",
    "    def __init__(self):\n",
    "        super().__init__()\n",
    "        \n",
    "    def forward(self, x):\n",
    "        return 0.5*x*(1+torch.tanh(torch.sqrt(torch.tensor(2.0/torch.pi))*(x+0.044715*torch.pow(x,3))))\n",
    "\t\t\n",
    "\n",
    "# Feed Forward Network\n",
    "class FeedForward(nn.Module):\n",
    "    def __init__(self, cfg):\n",
    "        super().__init__()\n",
    "        self.layers = nn.Sequential(\n",
    "            nn.Linear(cfg[\"emb_dim\"],4*cfg[\"emb_dim\"]),\n",
    "            GeLU(),\n",
    "            nn.Linear(4*cfg[\"emb_dim\"],cfg[\"emb_dim\"])\n",
    "        )\n",
    "    \n",
    "    def forward(self, x):\n",
    "        return self.layers(x)\n",
    "\t\t\n",
    "\t\n",
    "# Multi Head Attention Layer\t\n",
    "class MultiHeadAttentionLayer(torch.nn.Module):\n",
    "    def __init__(self, d_in, d_out, context_length, dropout, num_heads, qkv_bias=False):\n",
    "        super().__init__()\n",
    "        assert (d_out % num_heads == 0), \\\n",
    "            \"d_out must be divisible by num_heads\"\n",
    "\n",
    "        self.d_out = d_out\n",
    "        self.num_heads = num_heads\n",
    "        self.head_dim = d_out // num_heads \n",
    "\n",
    "        self.W_query = nn.Linear(d_in, d_out, bias=qkv_bias)\n",
    "        self.W_key = nn.Linear(d_in, d_out, bias=qkv_bias)\n",
    "        self.W_value = nn.Linear(d_in, d_out, bias=qkv_bias)\n",
    "        self.out_proj = nn.Linear(d_out, d_out)\n",
    "        self.dropout = nn.Dropout(dropout)\n",
    "        self.register_buffer(\n",
    "            \"mask\",\n",
    "            torch.triu(torch.ones(context_length, context_length),\n",
    "                       diagonal=1)\n",
    "        )\n",
    "\n",
    "    def forward(self, x):\n",
    "        b, num_tokens, d_in = x.shape\n",
    "\n",
    "        keys = self.W_key(x) # Shape: (b, num_tokens, d_out)\n",
    "        queries = self.W_query(x)\n",
    "        values = self.W_value(x)\n",
    "\n",
    "        keys = keys.view(b, num_tokens, self.num_heads, self.head_dim) \n",
    "        values = values.view(b, num_tokens, self.num_heads, self.head_dim)\n",
    "        queries = queries.view(b, num_tokens, self.num_heads, self.head_dim)\n",
    "\n",
    "        keys = keys.transpose(1, 2)\n",
    "        queries = queries.transpose(1, 2)\n",
    "        values = values.transpose(1, 2)\n",
    "\n",
    "        attn_scores = queries @ keys.transpose(2, 3)  \n",
    "\n",
    "        mask_bool = self.mask.bool()[:num_tokens, :num_tokens]\n",
    "\n",
    "        attn_scores.masked_fill_(mask_bool, -torch.inf)\n",
    "        \n",
    "        attn_weights = torch.softmax(attn_scores / keys.shape[-1]**0.5, dim=-1)\n",
    "        attn_weights = self.dropout(attn_weights)\n",
    "\n",
    "        context_vec = (attn_weights @ values).transpose(1, 2) \n",
    "        \n",
    "        context_vec = context_vec.contiguous().view(b, num_tokens, self.d_out)\n",
    "        context_vec = self.out_proj(context_vec)\n",
    "        \n",
    "        return context_vec\n",
    "\t\t\n",
    "\t\t\n",
    "class LayerNorm(nn.Module):\n",
    "    def __init__(self,emb_dim,unbias=False):\n",
    "        super().__init__()\n",
    "        self.eps = 1e-5\n",
    "        self.scale = nn.Parameter(torch.ones(emb_dim))\n",
    "        self.shift = nn.Parameter(torch.zeros(emb_dim))\n",
    "        self.unbiased = unbias\n",
    "        \n",
    "    def forward(self,x):\n",
    "        mean = x.mean(dim=-1,keepdim=True)\n",
    "        var = x.var(dim=-1, keepdim=True, unbiased=self.unbiased)\n",
    "        norm_x = (x-mean)/torch.sqrt(var+self.eps)\n",
    "        return self.scale*norm_x+self.shift\n",
    "\n",
    "\n",
    "class TransformerBlock(nn.Module):\n",
    "    def __init__(self,cfg):\n",
    "        super().__init__()\n",
    "        self.attention = MultiHeadAttentionLayer(\n",
    "            d_in=cfg[\"emb_dim\"],\n",
    "            d_out=cfg[\"emb_dim\"],\n",
    "            context_length=cfg[\"context_length\"],\n",
    "            num_heads=cfg[\"n_heads\"],\n",
    "            dropout=cfg[\"drop_rate\"],\n",
    "            qkv_bias=cfg[\"qkv_bias\"]\n",
    "        )\n",
    "        self.ffn = FeedForward(cfg)\n",
    "        self.norm1 = LayerNorm(cfg[\"emb_dim\"])\n",
    "        self.norm2 = LayerNorm(cfg[\"emb_dim\"])\n",
    "        self.dropout = nn.Dropout(cfg[\"drop_rate\"])\n",
    "        \n",
    "    def forward(self, x):\n",
    "        shortcut = x\n",
    "        x = self.norm1(x)\n",
    "        x = self.attention(x)\n",
    "        x = self.dropout(x)\n",
    "        x = x + shortcut\n",
    "        \n",
    "        shortcut = x\n",
    "        x = self.norm2(x)\n",
    "        x = self.ffn(x)\n",
    "        x = self.dropout(x)\n",
    "        x = x + shortcut\n",
    "        \n",
    "        return x\n",
    "\t\t\n",
    "\t\t\n",
    "class GPTModel(nn.Module):\n",
    "    def __init__(self, cfg):\n",
    "        super().__init__()\n",
    "        self.tok_emb = nn.Embedding(cfg[\"vocab_size\"], cfg[\"emb_dim\"])\n",
    "        self.pos_emb = nn.Embedding(cfg[\"context_length\"], cfg[\"emb_dim\"])\n",
    "        self.drop_emb = nn.Dropout(cfg[\"drop_rate\"])\n",
    "        \n",
    "        self.trf_blocks = nn.Sequential(\n",
    "            *[TransformerBlock(cfg) for _ in range(cfg[\"n_layers\"])])\n",
    "        \n",
    "        self.final_norm = LayerNorm(cfg[\"emb_dim\"])\n",
    "        self.out_head = nn.Linear(\n",
    "            cfg[\"emb_dim\"], cfg[\"vocab_size\"], bias=False\n",
    "        )\n",
    "\n",
    "    def forward(self, in_idx):\n",
    "        batch_size, seq_len = in_idx.shape\n",
    "        tok_embeds = self.tok_emb(in_idx)\n",
    "        pos_embeds = self.pos_emb(torch.arange(seq_len, device=in_idx.device))\n",
    "        x = tok_embeds + pos_embeds  # Shape [batch_size, num_tokens, emb_size]\n",
    "        x = self.drop_emb(x)\n",
    "        x = self.trf_blocks(x)\n",
    "        x = self.final_norm(x)\n",
    "        logits = self.out_head(x)\n",
    "        return logits\n",
    "\n",
    "\n",
    "def generate_text_simple(model, idx, max_new_tokens, context_size):\n",
    "    for _ in range(max_new_tokens):\n",
    "        idx_cond = idx[:, -context_size:]\n",
    "\n",
    "        with torch.no_grad():\n",
    "            logits = model(idx_cond)\n",
    "\n",
    "        logits = logits[:, -1, :]  \n",
    "\n",
    "        probas = torch.softmax(logits, dim=-1)\n",
    "\n",
    "        idx_next = torch.argmax(probas, dim=-1, keepdim=True)\n",
    "\n",
    "        idx = torch.cat((idx, idx_next), dim=1)\n",
    "\n",
    "    return idx\n"
   ]
  },
  {
   "cell_type": "code",
   "execution_count": 3,
   "id": "bb406851",
   "metadata": {
    "execution": {
     "iopub.status.busy": "2025-03-23T18:52:36.484985Z",
     "iopub.status.idle": "2025-03-23T18:52:36.485329Z",
     "shell.execute_reply": "2025-03-23T18:52:36.485177Z"
    }
   },
   "outputs": [],
   "source": [
    "tokenizer = tiktoken.get_encoding(\"gpt2\")"
   ]
  },
  {
   "cell_type": "code",
   "execution_count": 4,
   "id": "13c42dec",
   "metadata": {
    "execution": {
     "iopub.status.busy": "2025-03-23T18:52:36.486051Z",
     "iopub.status.idle": "2025-03-23T18:52:36.486401Z",
     "shell.execute_reply": "2025-03-23T18:52:36.486246Z"
    }
   },
   "outputs": [],
   "source": [
    "GPT_CONFIG = {\n",
    "    \"vocab_size\":tokenizer.n_vocab,\n",
    "    \"context_length\":256,\n",
    "    \"emb_dim\":768,\n",
    "    \"n_heads\":12,\n",
    "    \"n_layers\":12,                  # Number of transformer layers\n",
    "    \"drop_rate\":0.1,\n",
    "    \"qkv_bias\":False\n",
    "}"
   ]
  },
  {
   "cell_type": "code",
   "execution_count": 5,
   "id": "2b43d5ae",
   "metadata": {
    "execution": {
     "iopub.status.busy": "2025-03-23T18:52:36.487200Z",
     "iopub.status.idle": "2025-03-23T18:52:36.487543Z",
     "shell.execute_reply": "2025-03-23T18:52:36.487391Z"
    }
   },
   "outputs": [],
   "source": [
    "model = GPTModel(GPT_CONFIG)"
   ]
  },
  {
   "cell_type": "markdown",
   "id": "1aeb4236",
   "metadata": {},
   "source": [
    "## Loss calculation "
   ]
  },
  {
   "cell_type": "code",
   "execution_count": 6,
   "id": "2af566d1",
   "metadata": {
    "execution": {
     "iopub.status.busy": "2025-03-23T18:52:36.488231Z",
     "iopub.status.idle": "2025-03-23T18:52:36.488582Z",
     "shell.execute_reply": "2025-03-23T18:52:36.488429Z"
    }
   },
   "outputs": [],
   "source": [
    "text1 = \"Every effort moves you\"\n",
    "text2 = \"Everything is just imagination\""
   ]
  },
  {
   "cell_type": "code",
   "execution_count": 7,
   "id": "53a3aa3d",
   "metadata": {
    "execution": {
     "iopub.status.busy": "2025-03-23T18:52:36.489402Z",
     "iopub.status.idle": "2025-03-23T18:52:36.489749Z",
     "shell.execute_reply": "2025-03-23T18:52:36.489595Z"
    }
   },
   "outputs": [
    {
     "name": "stdout",
     "output_type": "stream",
     "text": [
      "[6109, 3626, 6100, 345]\n",
      "[19693, 318, 655, 13843]\n"
     ]
    }
   ],
   "source": [
    "print(tokenizer.encode(text1))\n",
    "print(tokenizer.encode(text2))"
   ]
  },
  {
   "cell_type": "code",
   "execution_count": 8,
   "id": "3f8e2ae8",
   "metadata": {
    "execution": {
     "iopub.status.busy": "2025-03-23T18:52:36.490491Z",
     "iopub.status.idle": "2025-03-23T18:52:36.490848Z",
     "shell.execute_reply": "2025-03-23T18:52:36.490684Z"
    }
   },
   "outputs": [],
   "source": [
    "inputs = torch.Tensor([[6109, 3626, 6100],\n",
    "                        [19693, 318, 655]]).to(dtype=torch.long)\n",
    "\n",
    "target = torch.Tensor([[3626, 6100, 345],\n",
    "                       [318, 655, 13843]]).to(dtype=torch.long)"
   ]
  },
  {
   "cell_type": "code",
   "execution_count": 9,
   "id": "48784fd3",
   "metadata": {
    "execution": {
     "iopub.status.busy": "2025-03-23T18:52:36.491673Z",
     "iopub.status.idle": "2025-03-23T18:52:36.492053Z",
     "shell.execute_reply": "2025-03-23T18:52:36.491879Z"
    }
   },
   "outputs": [],
   "source": [
    "model.eval();\n",
    "logits = model(inputs)"
   ]
  },
  {
   "cell_type": "code",
   "execution_count": 10,
   "id": "66e2c402",
   "metadata": {
    "execution": {
     "iopub.status.busy": "2025-03-23T18:52:36.492905Z",
     "iopub.status.idle": "2025-03-23T18:52:36.493270Z",
     "shell.execute_reply": "2025-03-23T18:52:36.493117Z"
    }
   },
   "outputs": [
    {
     "data": {
      "text/plain": [
       "torch.Size([2, 3, 50257])"
      ]
     },
     "execution_count": 10,
     "metadata": {},
     "output_type": "execute_result"
    }
   ],
   "source": [
    "logits.shape"
   ]
  },
  {
   "cell_type": "code",
   "execution_count": 11,
   "id": "30944c34",
   "metadata": {
    "execution": {
     "iopub.status.busy": "2025-03-23T18:52:36.493998Z",
     "iopub.status.idle": "2025-03-23T18:52:36.494345Z",
     "shell.execute_reply": "2025-03-23T18:52:36.494190Z"
    }
   },
   "outputs": [
    {
     "data": {
      "text/plain": [
       "torch.Size([6, 50257])"
      ]
     },
     "execution_count": 11,
     "metadata": {},
     "output_type": "execute_result"
    }
   ],
   "source": [
    "logits_flat=logits.flatten(0,1)\n",
    "logits_flat.shape"
   ]
  },
  {
   "cell_type": "code",
   "execution_count": 12,
   "id": "77a96a4c",
   "metadata": {
    "execution": {
     "iopub.status.busy": "2025-03-23T18:52:36.495344Z",
     "iopub.status.idle": "2025-03-23T18:52:36.495693Z",
     "shell.execute_reply": "2025-03-23T18:52:36.495542Z"
    }
   },
   "outputs": [
    {
     "data": {
      "text/plain": [
       "torch.Size([6])"
      ]
     },
     "execution_count": 12,
     "metadata": {},
     "output_type": "execute_result"
    }
   ],
   "source": [
    "target_flat = target.flatten()\n",
    "target_flat.shape"
   ]
  },
  {
   "cell_type": "code",
   "execution_count": 13,
   "id": "ceec9e14",
   "metadata": {
    "execution": {
     "iopub.status.busy": "2025-03-23T18:52:36.496513Z",
     "iopub.status.idle": "2025-03-23T18:52:36.496870Z",
     "shell.execute_reply": "2025-03-23T18:52:36.496708Z"
    }
   },
   "outputs": [
    {
     "data": {
      "text/plain": [
       "tensor(11.0594, grad_fn=<NllLossBackward0>)"
      ]
     },
     "execution_count": 13,
     "metadata": {},
     "output_type": "execute_result"
    }
   ],
   "source": [
    "torch.nn.functional.cross_entropy(logits_flat,target_flat)"
   ]
  },
  {
   "cell_type": "markdown",
   "id": "876c1566",
   "metadata": {},
   "source": [
    "## Training and validation"
   ]
  },
  {
   "cell_type": "code",
   "execution_count": 14,
   "id": "78d7d83c",
   "metadata": {
    "execution": {
     "iopub.status.busy": "2025-03-23T18:52:36.497601Z",
     "iopub.status.idle": "2025-03-23T18:52:36.497972Z",
     "shell.execute_reply": "2025-03-23T18:52:36.497794Z"
    }
   },
   "outputs": [],
   "source": [
    "from PyPDF2 import PdfReader"
   ]
  },
  {
   "cell_type": "code",
   "execution_count": 17,
   "id": "bf4a18df",
   "metadata": {
    "execution": {
     "iopub.status.busy": "2025-03-23T18:52:36.498930Z",
     "iopub.status.idle": "2025-03-23T18:52:36.499290Z",
     "shell.execute_reply": "2025-03-23T18:52:36.499138Z"
    }
   },
   "outputs": [
    {
     "name": "stdout",
     "output_type": "stream",
     "text": [
      "THE CONSTITUTION OF INDIA \n",
      "[As on       May , 2022] \n",
      "2022 \n",
      "  \n",
      " \n",
      "PREFACE \n",
      " \n",
      "This is the  fifth  pocke\n"
     ]
    }
   ],
   "source": [
    "file = r\"./data/consttution_of_india.pdf\"\n",
    "\n",
    "reader = PdfReader(file)\n",
    "text_data = \"\"\n",
    "for page in reader.pages:\n",
    "    text_data += page.extract_text()\n",
    "    \n",
    "text_data = text_data.strip()\n",
    "\n",
    "print(text_data[:100])"
   ]
  },
  {
   "cell_type": "code",
   "execution_count": null,
   "id": "9e35b922",
   "metadata": {
    "execution": {
     "iopub.status.busy": "2025-03-23T18:52:36.500005Z",
     "iopub.status.idle": "2025-03-23T18:52:36.500348Z",
     "shell.execute_reply": "2025-03-23T18:52:36.500196Z"
    }
   },
   "outputs": [],
   "source": [
    "train_ratio = 0.90\n",
    "split_idx = int(train_ratio * len(text_data))\n",
    "train_data = text_data[:split_idx]\n",
    "val_data = text_data[split_idx:]\n",
    "\n",
    "\n",
    "torch.manual_seed(123)\n",
    "\n",
    "train_loader = create_data_loader(\n",
    "    train_data,\n",
    "    batch_size=32,\n",
    "    max_length=GPT_CONFIG[\"context_length\"],\n",
    "    stride=GPT_CONFIG[\"context_length\"],\n",
    "    drop_last=True,\n",
    "    shuffle=True,\n",
    "    num_workers=0,\n",
    "    tokenizer=tokenizer\n",
    ")\n",
    "\n",
    "val_loader = create_data_loader(\n",
    "    val_data,\n",
    "    batch_size=32,\n",
    "    max_length=GPT_CONFIG[\"context_length\"],\n",
    "    stride=GPT_CONFIG[\"context_length\"],\n",
    "    drop_last=False,\n",
    "    shuffle=False,\n",
    "    num_workers=0,\n",
    "    tokenizer=tokenizer\n",
    ")"
   ]
  },
  {
   "cell_type": "code",
   "execution_count": null,
   "id": "4177be7b",
   "metadata": {
    "execution": {
     "iopub.status.busy": "2025-03-23T18:52:36.501097Z",
     "iopub.status.idle": "2025-03-23T18:52:36.501444Z",
     "shell.execute_reply": "2025-03-23T18:52:36.501292Z"
    }
   },
   "outputs": [
    {
     "name": "stdout",
     "output_type": "stream",
     "text": [
      "torch.Size([32, 6]) torch.Size([32, 6])\n",
      "torch.Size([32, 6]) torch.Size([32, 6])\n",
      "torch.Size([32, 6]) torch.Size([32, 6])\n",
      "torch.Size([32, 6]) torch.Size([32, 6])\n",
      "torch.Size([32, 6]) torch.Size([32, 6])\n",
      "torch.Size([32, 6]) torch.Size([32, 6])\n",
      "torch.Size([32, 6]) torch.Size([32, 6])\n",
      "torch.Size([32, 6]) torch.Size([32, 6])\n",
      "torch.Size([32, 6]) torch.Size([32, 6])\n",
      "torch.Size([32, 6]) torch.Size([32, 6])\n",
      "torch.Size([32, 6]) torch.Size([32, 6])\n",
      "torch.Size([32, 6]) torch.Size([32, 6])\n",
      "torch.Size([32, 6]) torch.Size([32, 6])\n",
      "torch.Size([32, 6]) torch.Size([32, 6])\n",
      "torch.Size([32, 6]) torch.Size([32, 6])\n",
      "torch.Size([32, 6]) torch.Size([32, 6])\n",
      "torch.Size([32, 6]) torch.Size([32, 6])\n",
      "torch.Size([32, 6]) torch.Size([32, 6])\n",
      "torch.Size([32, 6]) torch.Size([32, 6])\n",
      "torch.Size([32, 6]) torch.Size([32, 6])\n",
      "torch.Size([32, 6]) torch.Size([32, 6])\n",
      "torch.Size([32, 6]) torch.Size([32, 6])\n",
      "torch.Size([32, 6]) torch.Size([32, 6])\n",
      "torch.Size([32, 6]) torch.Size([32, 6])\n",
      "torch.Size([32, 6]) torch.Size([32, 6])\n",
      "torch.Size([32, 6]) torch.Size([32, 6])\n",
      "torch.Size([32, 6]) torch.Size([32, 6])\n",
      "torch.Size([32, 6]) torch.Size([32, 6])\n",
      "torch.Size([32, 6]) torch.Size([32, 6])\n",
      "torch.Size([32, 6]) torch.Size([32, 6])\n",
      "torch.Size([32, 6]) torch.Size([32, 6])\n",
      "torch.Size([32, 6]) torch.Size([32, 6])\n",
      "torch.Size([32, 6]) torch.Size([32, 6])\n",
      "torch.Size([32, 6]) torch.Size([32, 6])\n",
      "torch.Size([32, 6]) torch.Size([32, 6])\n",
      "torch.Size([32, 6]) torch.Size([32, 6])\n",
      "torch.Size([32, 6]) torch.Size([32, 6])\n",
      "torch.Size([32, 6]) torch.Size([32, 6])\n",
      "torch.Size([32, 6]) torch.Size([32, 6])\n",
      "torch.Size([32, 6]) torch.Size([32, 6])\n",
      "torch.Size([32, 6]) torch.Size([32, 6])\n",
      "torch.Size([32, 6]) torch.Size([32, 6])\n",
      "torch.Size([32, 6]) torch.Size([32, 6])\n",
      "torch.Size([32, 6]) torch.Size([32, 6])\n",
      "torch.Size([32, 6]) torch.Size([32, 6])\n",
      "torch.Size([32, 6]) torch.Size([32, 6])\n",
      "torch.Size([32, 6]) torch.Size([32, 6])\n",
      "torch.Size([32, 6]) torch.Size([32, 6])\n",
      "torch.Size([32, 6]) torch.Size([32, 6])\n",
      "torch.Size([32, 6]) torch.Size([32, 6])\n",
      "torch.Size([32, 6]) torch.Size([32, 6])\n",
      "torch.Size([32, 6]) torch.Size([32, 6])\n",
      "torch.Size([32, 6]) torch.Size([32, 6])\n",
      "torch.Size([32, 6]) torch.Size([32, 6])\n",
      "torch.Size([32, 6]) torch.Size([32, 6])\n",
      "torch.Size([32, 6]) torch.Size([32, 6])\n",
      "torch.Size([32, 6]) torch.Size([32, 6])\n",
      "torch.Size([32, 6]) torch.Size([32, 6])\n",
      "torch.Size([32, 6]) torch.Size([32, 6])\n",
      "torch.Size([32, 6]) torch.Size([32, 6])\n",
      "torch.Size([32, 6]) torch.Size([32, 6])\n",
      "torch.Size([32, 6]) torch.Size([32, 6])\n",
      "torch.Size([32, 6]) torch.Size([32, 6])\n",
      "torch.Size([32, 6]) torch.Size([32, 6])\n",
      "torch.Size([32, 6]) torch.Size([32, 6])\n",
      "torch.Size([32, 6]) torch.Size([32, 6])\n",
      "torch.Size([32, 6]) torch.Size([32, 6])\n",
      "torch.Size([32, 6]) torch.Size([32, 6])\n",
      "torch.Size([32, 6]) torch.Size([32, 6])\n",
      "torch.Size([32, 6]) torch.Size([32, 6])\n",
      "torch.Size([32, 6]) torch.Size([32, 6])\n",
      "torch.Size([32, 6]) torch.Size([32, 6])\n",
      "torch.Size([32, 6]) torch.Size([32, 6])\n",
      "torch.Size([32, 6]) torch.Size([32, 6])\n",
      "torch.Size([32, 6]) torch.Size([32, 6])\n",
      "torch.Size([32, 6]) torch.Size([32, 6])\n",
      "torch.Size([32, 6]) torch.Size([32, 6])\n",
      "torch.Size([32, 6]) torch.Size([32, 6])\n",
      "torch.Size([32, 6]) torch.Size([32, 6])\n",
      "torch.Size([32, 6]) torch.Size([32, 6])\n",
      "torch.Size([32, 6]) torch.Size([32, 6])\n",
      "torch.Size([32, 6]) torch.Size([32, 6])\n",
      "torch.Size([32, 6]) torch.Size([32, 6])\n",
      "torch.Size([32, 6]) torch.Size([32, 6])\n",
      "torch.Size([32, 6]) torch.Size([32, 6])\n",
      "torch.Size([32, 6]) torch.Size([32, 6])\n",
      "torch.Size([32, 6]) torch.Size([32, 6])\n",
      "torch.Size([32, 6]) torch.Size([32, 6])\n",
      "torch.Size([32, 6]) torch.Size([32, 6])\n",
      "torch.Size([32, 6]) torch.Size([32, 6])\n",
      "torch.Size([32, 6]) torch.Size([32, 6])\n",
      "torch.Size([32, 6]) torch.Size([32, 6])\n",
      "torch.Size([32, 6]) torch.Size([32, 6])\n",
      "torch.Size([32, 6]) torch.Size([32, 6])\n",
      "torch.Size([32, 6]) torch.Size([32, 6])\n",
      "torch.Size([32, 6]) torch.Size([32, 6])\n",
      "torch.Size([32, 6]) torch.Size([32, 6])\n",
      "torch.Size([32, 6]) torch.Size([32, 6])\n",
      "torch.Size([32, 6]) torch.Size([32, 6])\n",
      "torch.Size([32, 6]) torch.Size([32, 6])\n",
      "torch.Size([32, 6]) torch.Size([32, 6])\n",
      "torch.Size([32, 6]) torch.Size([32, 6])\n",
      "torch.Size([32, 6]) torch.Size([32, 6])\n",
      "torch.Size([32, 6]) torch.Size([32, 6])\n",
      "torch.Size([32, 6]) torch.Size([32, 6])\n",
      "torch.Size([32, 6]) torch.Size([32, 6])\n",
      "torch.Size([32, 6]) torch.Size([32, 6])\n",
      "torch.Size([32, 6]) torch.Size([32, 6])\n",
      "torch.Size([32, 6]) torch.Size([32, 6])\n",
      "torch.Size([32, 6]) torch.Size([32, 6])\n",
      "torch.Size([32, 6]) torch.Size([32, 6])\n",
      "torch.Size([32, 6]) torch.Size([32, 6])\n",
      "torch.Size([32, 6]) torch.Size([32, 6])\n",
      "torch.Size([32, 6]) torch.Size([32, 6])\n",
      "torch.Size([32, 6]) torch.Size([32, 6])\n",
      "torch.Size([32, 6]) torch.Size([32, 6])\n",
      "torch.Size([32, 6]) torch.Size([32, 6])\n",
      "torch.Size([32, 6]) torch.Size([32, 6])\n",
      "torch.Size([32, 6]) torch.Size([32, 6])\n",
      "torch.Size([32, 6]) torch.Size([32, 6])\n",
      "torch.Size([32, 6]) torch.Size([32, 6])\n",
      "torch.Size([32, 6]) torch.Size([32, 6])\n",
      "torch.Size([32, 6]) torch.Size([32, 6])\n",
      "torch.Size([32, 6]) torch.Size([32, 6])\n",
      "torch.Size([32, 6]) torch.Size([32, 6])\n",
      "torch.Size([32, 6]) torch.Size([32, 6])\n",
      "torch.Size([32, 6]) torch.Size([32, 6])\n",
      "torch.Size([32, 6]) torch.Size([32, 6])\n",
      "torch.Size([32, 6]) torch.Size([32, 6])\n",
      "torch.Size([32, 6]) torch.Size([32, 6])\n",
      "torch.Size([32, 6]) torch.Size([32, 6])\n",
      "torch.Size([32, 6]) torch.Size([32, 6])\n",
      "torch.Size([32, 6]) torch.Size([32, 6])\n",
      "torch.Size([32, 6]) torch.Size([32, 6])\n",
      "torch.Size([32, 6]) torch.Size([32, 6])\n",
      "torch.Size([32, 6]) torch.Size([32, 6])\n",
      "torch.Size([32, 6]) torch.Size([32, 6])\n",
      "torch.Size([32, 6]) torch.Size([32, 6])\n",
      "torch.Size([32, 6]) torch.Size([32, 6])\n",
      "torch.Size([32, 6]) torch.Size([32, 6])\n",
      "torch.Size([32, 6]) torch.Size([32, 6])\n",
      "torch.Size([32, 6]) torch.Size([32, 6])\n",
      "torch.Size([32, 6]) torch.Size([32, 6])\n",
      "torch.Size([32, 6]) torch.Size([32, 6])\n",
      "torch.Size([32, 6]) torch.Size([32, 6])\n",
      "torch.Size([32, 6]) torch.Size([32, 6])\n",
      "torch.Size([32, 6]) torch.Size([32, 6])\n",
      "torch.Size([32, 6]) torch.Size([32, 6])\n",
      "torch.Size([32, 6]) torch.Size([32, 6])\n",
      "torch.Size([32, 6]) torch.Size([32, 6])\n",
      "torch.Size([32, 6]) torch.Size([32, 6])\n",
      "torch.Size([32, 6]) torch.Size([32, 6])\n",
      "torch.Size([32, 6]) torch.Size([32, 6])\n",
      "torch.Size([32, 6]) torch.Size([32, 6])\n",
      "torch.Size([32, 6]) torch.Size([32, 6])\n",
      "torch.Size([32, 6]) torch.Size([32, 6])\n",
      "torch.Size([32, 6]) torch.Size([32, 6])\n",
      "torch.Size([32, 6]) torch.Size([32, 6])\n",
      "torch.Size([32, 6]) torch.Size([32, 6])\n",
      "torch.Size([32, 6]) torch.Size([32, 6])\n",
      "torch.Size([32, 6]) torch.Size([32, 6])\n",
      "torch.Size([32, 6]) torch.Size([32, 6])\n",
      "torch.Size([32, 6]) torch.Size([32, 6])\n",
      "torch.Size([32, 6]) torch.Size([32, 6])\n",
      "torch.Size([32, 6]) torch.Size([32, 6])\n",
      "torch.Size([32, 6]) torch.Size([32, 6])\n",
      "torch.Size([32, 6]) torch.Size([32, 6])\n",
      "torch.Size([32, 6]) torch.Size([32, 6])\n",
      "torch.Size([32, 6]) torch.Size([32, 6])\n",
      "torch.Size([32, 6]) torch.Size([32, 6])\n",
      "torch.Size([32, 6]) torch.Size([32, 6])\n",
      "torch.Size([32, 6]) torch.Size([32, 6])\n",
      "torch.Size([32, 6]) torch.Size([32, 6])\n",
      "torch.Size([32, 6]) torch.Size([32, 6])\n",
      "torch.Size([32, 6]) torch.Size([32, 6])\n",
      "torch.Size([32, 6]) torch.Size([32, 6])\n",
      "torch.Size([32, 6]) torch.Size([32, 6])\n",
      "torch.Size([32, 6]) torch.Size([32, 6])\n",
      "torch.Size([32, 6]) torch.Size([32, 6])\n",
      "torch.Size([32, 6]) torch.Size([32, 6])\n",
      "torch.Size([32, 6]) torch.Size([32, 6])\n",
      "torch.Size([32, 6]) torch.Size([32, 6])\n",
      "torch.Size([32, 6]) torch.Size([32, 6])\n",
      "torch.Size([32, 6]) torch.Size([32, 6])\n",
      "torch.Size([32, 6]) torch.Size([32, 6])\n",
      "torch.Size([32, 6]) torch.Size([32, 6])\n",
      "torch.Size([32, 6]) torch.Size([32, 6])\n",
      "torch.Size([11, 6]) torch.Size([11, 6])\n"
     ]
    }
   ],
   "source": [
    "print(\"Train loader:\")\n",
    "for x, y in train_loader:\n",
    "    pass\n",
    "\n",
    "print(\"\\nValidation loader:\")\n",
    "for x, y in val_loader:\n",
    "    pass"
   ]
  },
  {
   "cell_type": "code",
   "execution_count": null,
   "id": "e80a499b",
   "metadata": {
    "execution": {
     "iopub.status.busy": "2025-03-23T18:52:36.502223Z",
     "iopub.status.idle": "2025-03-23T18:52:36.502564Z",
     "shell.execute_reply": "2025-03-23T18:52:36.502415Z"
    }
   },
   "outputs": [],
   "source": [
    "train_tokens = 0\n",
    "for input_batch, target_batch in train_loader:\n",
    "    train_tokens += input_batch.numel()\n",
    "\n",
    "val_tokens = 0\n",
    "for input_batch, target_batch in val_loader:\n",
    "    val_tokens += input_batch.numel()\n",
    "\n",
    "print(\"Training tokens:\", train_tokens)\n",
    "print(\"Validation tokens:\", val_tokens)\n",
    "print(\"All tokens:\", train_tokens + val_tokens)"
   ]
  },
  {
   "cell_type": "markdown",
   "id": "206d6473",
   "metadata": {},
   "source": [
    "### Loss calculator function"
   ]
  },
  {
   "cell_type": "code",
   "execution_count": null,
   "id": "703d680d",
   "metadata": {
    "execution": {
     "iopub.status.busy": "2025-03-23T18:52:36.503360Z",
     "iopub.status.idle": "2025-03-23T18:52:36.503708Z",
     "shell.execute_reply": "2025-03-23T18:52:36.503556Z"
    }
   },
   "outputs": [],
   "source": [
    "def calc_loss_batch(input_batch, target_batch, model, device):\n",
    "    input_batch, target_batch = input_batch.to(device,dtype=torch.long), target_batch.to(device,dtype=torch.long)\n",
    "    logits = model(input_batch)\n",
    "    loss = torch.nn.functional.cross_entropy(logits.flatten(0, 1), target_batch.flatten())\n",
    "    return loss\n",
    "\n",
    "\n",
    "def calc_loss_loader(data_loader, model, device, num_batches=None):\n",
    "    total_loss = 0.\n",
    "    if len(data_loader) == 0:\n",
    "        return float(\"nan\")\n",
    "    elif num_batches is None:\n",
    "        num_batches = len(data_loader)\n",
    "    else:\n",
    "        num_batches = min(num_batches, len(data_loader))\n",
    "    for i, (input_batch, target_batch) in enumerate(data_loader):\n",
    "        if i < num_batches:\n",
    "            loss = calc_loss_batch(input_batch, target_batch, model, device)\n",
    "            total_loss += loss.item()\n",
    "        else:\n",
    "            break\n",
    "    return total_loss / num_batches"
   ]
  },
  {
   "cell_type": "code",
   "execution_count": null,
   "id": "731ba936",
   "metadata": {
    "execution": {
     "iopub.status.busy": "2025-03-23T18:52:36.504426Z",
     "iopub.status.idle": "2025-03-23T18:52:36.504772Z",
     "shell.execute_reply": "2025-03-23T18:52:36.504620Z"
    }
   },
   "outputs": [],
   "source": [
    "device = torch.device(\"cuda\" if torch.cuda.is_available() else \"cpu\")\n",
    "\n",
    "model.to(device) # no assignment model = model.to(device) necessary for nn.Module classes\n",
    "\n",
    "\n",
    "torch.manual_seed(123) # For reproducibility due to the shuffling in the data loader\n",
    "\n",
    "with torch.no_grad(): # Disable gradient tracking for efficiency because we are not training, yet\n",
    "    train_loss = calc_loss_loader(train_loader, model, device)\n",
    "    val_loss = calc_loss_loader(val_loader, model, device)\n",
    "\n",
    "print(\"Training loss:\", train_loss)\n",
    "print(\"Validation loss:\", val_loss)"
   ]
  },
  {
   "cell_type": "code",
   "execution_count": null,
   "id": "1b4782c8-7e04-4883-9442-b2f74c49c6c2",
   "metadata": {
    "execution": {
     "iopub.status.busy": "2025-03-23T18:52:36.505457Z",
     "iopub.status.idle": "2025-03-23T18:52:36.505832Z",
     "shell.execute_reply": "2025-03-23T18:52:36.505653Z"
    }
   },
   "outputs": [],
   "source": [
    "print(device)"
   ]
  },
  {
   "cell_type": "code",
   "execution_count": null,
   "id": "9140d788",
   "metadata": {
    "execution": {
     "iopub.status.busy": "2025-03-23T18:52:36.506607Z",
     "iopub.status.idle": "2025-03-23T18:52:36.507015Z",
     "shell.execute_reply": "2025-03-23T18:52:36.506810Z"
    }
   },
   "outputs": [],
   "source": [
    "def train_model_simple(model, train_loader, val_loader, optimizer, device, num_epochs,\n",
    "                       eval_freq, eval_iter, start_context, tokenizer):\n",
    "    # Initialize lists to track losses and tokens seen\n",
    "    train_losses, val_losses, track_tokens_seen = [], [], []\n",
    "    tokens_seen, global_step = 0, -1\n",
    "\n",
    "    # Main training loop\n",
    "    for epoch in range(num_epochs):\n",
    "        model.train()  # Set model to training mode\n",
    "        \n",
    "        for input_batch, target_batch in train_loader:\n",
    "            optimizer.zero_grad() # Reset loss gradients from previous batch iteration\n",
    "            loss = calc_loss_batch(input_batch, target_batch, model, device)\n",
    "            loss.backward() # Calculate loss gradients\n",
    "            optimizer.step() # Update model weights using loss gradients\n",
    "            tokens_seen += input_batch.numel()\n",
    "            global_step += 1\n",
    "\n",
    "            # Optional evaluation step\n",
    "            if global_step % eval_freq == 0:\n",
    "                train_loss, val_loss = evaluate_model(\n",
    "                    model, train_loader, val_loader, device, eval_iter)\n",
    "                train_losses.append(train_loss)\n",
    "                val_losses.append(val_loss)\n",
    "                track_tokens_seen.append(tokens_seen)\n",
    "                print(f\"Ep {epoch+1} (Step {global_step:06d}): \"\n",
    "                      f\"Train loss {train_loss:.3f}, Val loss {val_loss:.3f}\")\n",
    "\n",
    "        # Print a sample text after each epoch\n",
    "        generate_and_print_sample(\n",
    "            model, tokenizer, device, start_context\n",
    "        )\n",
    "\n",
    "    return train_losses, val_losses, track_tokens_seen\n",
    "\n",
    "\n",
    "def evaluate_model(model, train_loader, val_loader, device, eval_iter):\n",
    "    model.eval()\n",
    "    with torch.no_grad():\n",
    "        train_loss = calc_loss_loader(train_loader, model, device, num_batches=eval_iter)\n",
    "        val_loss = calc_loss_loader(val_loader, model, device, num_batches=eval_iter)\n",
    "    model.train()\n",
    "    return train_loss, val_loss\n",
    "\n",
    "\n",
    "def text_to_token_ids(text, tokenizer):\n",
    "    encoded = tokenizer.encode(text, allowed_special={'<|endoftext|>'})\n",
    "    encoded_tensor = torch.tensor(encoded).unsqueeze(0) # add batch dimension\n",
    "    return encoded_tensor\n",
    "\n",
    "def token_ids_to_text(token_ids, tokenizer):\n",
    "    flat = token_ids.squeeze(0) # remove batch dimension\n",
    "    return tokenizer.decode(flat.tolist())\n",
    "\n",
    "\n",
    "def generate_and_print_sample(model, tokenizer, device, start_context):\n",
    "    model.eval()\n",
    "    context_size = model.pos_emb.weight.shape[0]\n",
    "    encoded = text_to_token_ids(start_context, tokenizer).to(device)\n",
    "    with torch.no_grad():\n",
    "        token_ids = generate_text_simple(\n",
    "            model=model, idx=encoded,\n",
    "            max_new_tokens=50, context_size=context_size\n",
    "        )\n",
    "    decoded_text = token_ids_to_text(token_ids, tokenizer)\n",
    "    print(decoded_text.replace(\"\\n\", \" \"))  # Compact print format\n",
    "    model.train()"
   ]
  },
  {
   "cell_type": "markdown",
   "id": "e067135d",
   "metadata": {},
   "source": [
    "# Training"
   ]
  },
  {
   "cell_type": "code",
   "execution_count": null,
   "id": "ef49a8d6-24ca-4d1a-a793-6dc0f666c680",
   "metadata": {
    "execution": {
     "iopub.status.busy": "2025-03-23T18:52:36.507683Z",
     "iopub.status.idle": "2025-03-23T18:52:36.508057Z",
     "shell.execute_reply": "2025-03-23T18:52:36.507884Z"
    }
   },
   "outputs": [],
   "source": [
    "print(device)"
   ]
  },
  {
   "cell_type": "code",
   "execution_count": null,
   "id": "92f93d30",
   "metadata": {
    "execution": {
     "iopub.status.busy": "2025-03-23T18:52:36.508926Z",
     "iopub.status.idle": "2025-03-23T18:52:36.509288Z",
     "shell.execute_reply": "2025-03-23T18:52:36.509136Z"
    }
   },
   "outputs": [],
   "source": [
    "torch.manual_seed(123)\n",
    "model = GPTModel(GPT_CONFIG)\n",
    "model.to(device)\n",
    "optimizer = torch.optim.AdamW(model.parameters(), lr=0.0004, weight_decay=0.1)"
   ]
  },
  {
   "cell_type": "code",
   "execution_count": null,
   "id": "0498e411-4c01-4cd2-aef8-7544bb8a551d",
   "metadata": {
    "execution": {
     "iopub.status.busy": "2025-03-23T18:52:36.509978Z",
     "iopub.status.idle": "2025-03-23T18:52:36.510322Z",
     "shell.execute_reply": "2025-03-23T18:52:36.510172Z"
    }
   },
   "outputs": [],
   "source": [
    "num_epochs = 10\n",
    "train_losses, val_losses, tokens_seen = train_model_simple(\n",
    "    model, train_loader, val_loader, optimizer, device,\n",
    "    num_epochs=num_epochs, eval_freq=5, eval_iter=5,\n",
    "    start_context=\"Every effort moves you\", tokenizer=tokenizer\n",
    ")"
   ]
  },
  {
   "cell_type": "code",
   "execution_count": 28,
   "id": "8d868ecd",
   "metadata": {},
   "outputs": [],
   "source": [
    "import matplotlib.pyplot as plt\n",
    "from matplotlib.ticker import MaxNLocator"
   ]
  },
  {
   "cell_type": "code",
   "execution_count": null,
   "id": "5786a151",
   "metadata": {},
   "outputs": [],
   "source": [
    "\n",
    "def plot_losses(epochs_seen, tokens_seen, train_losses, val_losses):\n",
    "    fig, ax1 = plt.subplots(figsize=(5, 3))\n",
    "\n",
    "    # Plot training and validation loss against epochs\n",
    "    ax1.plot(epochs_seen, train_losses, label=\"Training loss\")\n",
    "    ax1.plot(epochs_seen, val_losses, linestyle=\"-.\", label=\"Validation loss\")\n",
    "    ax1.set_xlabel(\"Epochs\")\n",
    "    ax1.set_ylabel(\"Loss\")\n",
    "    ax1.legend(loc=\"upper right\")\n",
    "    ax1.xaxis.set_major_locator(MaxNLocator(integer=True))  # only show integer labels on x-axis\n",
    "\n",
    "    # Create a second x-axis for tokens seen\n",
    "    ax2 = ax1.twiny()  # Create a second x-axis that shares the same y-axis\n",
    "    ax2.plot(tokens_seen, train_losses, alpha=0)  # Invisible plot for aligning ticks\n",
    "    ax2.set_xlabel(\"Tokens seen\")\n",
    "\n",
    "    fig.tight_layout()  # Adjust layout to make room\n",
    "    plt.savefig(\"loss-plot.pdf\")\n",
    "    plt.show()\n",
    "\n",
    "epochs_tensor = torch.linspace(0, num_epochs, len(train_losses))\n",
    "plot_losses(epochs_tensor, tokens_seen, train_losses, val_losses)"
   ]
  },
  {
   "cell_type": "markdown",
   "id": "b023d87a",
   "metadata": {},
   "source": [
    "## Temperature Scaling"
   ]
  },
  {
   "cell_type": "code",
   "execution_count": 18,
   "id": "deb5e716-27ce-4da5-8df9-fbf71be8da3d",
   "metadata": {},
   "outputs": [
    {
     "name": "stdout",
     "output_type": "stream",
     "text": [
      "forward\n"
     ]
    }
   ],
   "source": [
    "vocab = { \n",
    "    \"closer\": 0,\n",
    "    \"every\": 1, \n",
    "    \"effort\": 2, \n",
    "    \"forward\": 3,\n",
    "    \"inches\": 4,\n",
    "    \"moves\": 5, \n",
    "    \"pizza\": 6,\n",
    "    \"toward\": 7,\n",
    "    \"you\": 8,\n",
    "} \n",
    "\n",
    "inverse_vocab = {v: k for k, v in vocab.items()}\n",
    "\n",
    "# Suppose input is \"every effort moves you\", and the LLM\n",
    "# returns the following logits for the next token:\n",
    "next_token_logits = torch.tensor(\n",
    "    [4.51, 0.89, -1.90, 6.75, 1.63, -1.62, -1.89, 6.28, 1.79]\n",
    ")\n",
    "\n",
    "probas = torch.softmax(next_token_logits, dim=0)\n",
    "next_token_id = torch.argmax(probas).item()\n",
    "\n",
    "# The next generated token is then as follows:\n",
    "print(inverse_vocab[next_token_id])"
   ]
  },
  {
   "cell_type": "code",
   "execution_count": 24,
   "id": "700bffb2",
   "metadata": {},
   "outputs": [
    {
     "name": "stdout",
     "output_type": "stream",
     "text": [
      "toward\n"
     ]
    }
   ],
   "source": [
    "next_token_id = torch.multinomial(probas, num_samples=1).item()\n",
    "print(inverse_vocab[next_token_id])"
   ]
  },
  {
   "cell_type": "code",
   "execution_count": 25,
   "id": "ae6eedbe",
   "metadata": {},
   "outputs": [
    {
     "name": "stdout",
     "output_type": "stream",
     "text": [
      "71 x closer\n",
      "2 x every\n",
      "0 x effort\n",
      "544 x forward\n",
      "2 x inches\n",
      "1 x moves\n",
      "0 x pizza\n",
      "376 x toward\n",
      "4 x you\n"
     ]
    }
   ],
   "source": [
    "def print_sampled_tokens(probas):\n",
    "    torch.manual_seed(123) # Manual seed for reproducibility\n",
    "    sample = [torch.multinomial(probas, num_samples=1).item() for i in range(1_000)]\n",
    "    sampled_ids = torch.bincount(torch.tensor(sample), minlength=len(probas))\n",
    "    for i, freq in enumerate(sampled_ids):\n",
    "        print(f\"{freq} x {inverse_vocab[i]}\")\n",
    "\n",
    "print_sampled_tokens(probas)"
   ]
  },
  {
   "cell_type": "code",
   "execution_count": 26,
   "id": "7e5cea00",
   "metadata": {},
   "outputs": [],
   "source": [
    "def softmax_with_temperature(logits, temperature):\n",
    "    scaled_logits = logits / temperature\n",
    "    return torch.softmax(scaled_logits, dim=0)\n",
    "\n",
    "temperatures = [1, 0.1, 5]\n",
    "\n",
    "scaled_probas = [softmax_with_temperature(next_token_logits, T) for T in temperatures]"
   ]
  },
  {
   "cell_type": "code",
   "execution_count": 29,
   "id": "0230f187",
   "metadata": {},
   "outputs": [
    {
     "data": {
      "image/png": "[encoded data removed]",
      "text/plain": [
       "<Figure size 500x300 with 1 Axes>"
      ]
     },
     "metadata": {},
     "output_type": "display_data"
    }
   ],
   "source": [
    "# Plotting\n",
    "x = torch.arange(len(vocab))\n",
    "bar_width = 0.15\n",
    "\n",
    "fig, ax = plt.subplots(figsize=(5, 3))\n",
    "for i, T in enumerate(temperatures):\n",
    "    rects = ax.bar(x + i * bar_width, scaled_probas[i], bar_width, label=f'Temperature = {T}')\n",
    "\n",
    "ax.set_ylabel('Probability')\n",
    "ax.set_xticks(x)\n",
    "ax.set_xticklabels(vocab.keys(), rotation=90)\n",
    "ax.legend()\n",
    "\n",
    "plt.tight_layout()\n",
    "plt.savefig(\"temperature-plot.pdf\")\n",
    "plt.show()"
   ]
  },
  {
   "cell_type": "markdown",
   "id": "5011635f",
   "metadata": {},
   "source": [
    "## Top K sampling"
   ]
  },
  {
   "cell_type": "code",
   "execution_count": 30,
   "id": "1c78291c",
   "metadata": {},
   "outputs": [
    {
     "name": "stdout",
     "output_type": "stream",
     "text": [
      "Top logits: tensor([6.7500, 6.2800, 4.5100])\n",
      "Top positions: tensor([3, 7, 0])\n"
     ]
    }
   ],
   "source": [
    "top_k = 3\n",
    "top_logits, top_pos = torch.topk(next_token_logits, top_k)\n",
    "\n",
    "print(\"Top logits:\", top_logits)\n",
    "print(\"Top positions:\", top_pos)"
   ]
  },
  {
   "cell_type": "code",
   "execution_count": 31,
   "id": "dae5fff3",
   "metadata": {},
   "outputs": [
    {
     "name": "stdout",
     "output_type": "stream",
     "text": [
      "tensor([4.5100,   -inf,   -inf, 6.7500,   -inf,   -inf,   -inf, 6.2800,   -inf])\n"
     ]
    }
   ],
   "source": [
    "new_logits = torch.where(\n",
    "    condition=next_token_logits < top_logits[-1],\n",
    "    input=torch.tensor(float(\"-inf\")), \n",
    "    other=next_token_logits\n",
    ")\n",
    "\n",
    "print(new_logits)"
   ]
  },
  {
   "cell_type": "code",
   "execution_count": 32,
   "id": "7a755109",
   "metadata": {},
   "outputs": [
    {
     "name": "stdout",
     "output_type": "stream",
     "text": [
      "tensor([0.0615, 0.0000, 0.0000, 0.5775, 0.0000, 0.0000, 0.0000, 0.3610, 0.0000])\n"
     ]
    }
   ],
   "source": [
    "topk_probas = torch.softmax(new_logits, dim=0)\n",
    "print(topk_probas)"
   ]
  },
  {
   "cell_type": "markdown",
   "id": "8f6ebae4",
   "metadata": {},
   "source": [
    "# New Text Generation Function"
   ]
  },
  {
   "cell_type": "code",
   "execution_count": 33,
   "id": "04242c8e",
   "metadata": {},
   "outputs": [],
   "source": [
    "def generate(model, idx, max_new_tokens, context_size, temperature=0.0, top_k=None, eos_id=None):\n",
    "    for _ in range(max_new_tokens):\n",
    "        idx_cond = idx[:, -context_size:]\n",
    "        with torch.no_grad():\n",
    "            logits = model(idx_cond)\n",
    "        logits = logits[:, -1, :]\n",
    "        if top_k is not None:\n",
    "            top_logits, _ = torch.topk(logits, top_k)\n",
    "            min_val = top_logits[:, -1]\n",
    "            logits = torch.where(logits < min_val, torch.tensor(float(\"-inf\")).to(logits.device), logits)\n",
    "        if temperature > 0.0:\n",
    "            logits = logits / temperature\n",
    "            probs = torch.softmax(logits, dim=-1)\n",
    "            idx_next = torch.multinomial(probs, num_samples=1)\n",
    "        else:\n",
    "            idx_next = torch.argmax(logits, dim=-1, keepdim=True)\n",
    "\n",
    "        if idx_next == eos_id:\n",
    "            break\n",
    "\n",
    "        idx = torch.cat((idx, idx_next), dim=1)\n",
    "\n",
    "    return idx"
   ]
  },
  {
   "cell_type": "code",
   "execution_count": 34,
   "id": "fd2c7911",
   "metadata": {},
   "outputs": [
    {
     "ename": "NameError",
     "evalue": "name 'text_to_token_ids' is not defined",
     "output_type": "error",
     "traceback": [
      "\u001b[1;31m---------------------------------------------------------------------------\u001b[0m",
      "\u001b[1;31mNameError\u001b[0m                                 Traceback (most recent call last)",
      "Cell \u001b[1;32mIn[34], line 5\u001b[0m\n\u001b[0;32m      1\u001b[0m torch\u001b[38;5;241m.\u001b[39mmanual_seed(\u001b[38;5;241m123\u001b[39m)\n\u001b[0;32m      3\u001b[0m token_ids \u001b[38;5;241m=\u001b[39m generate(\n\u001b[0;32m      4\u001b[0m     model\u001b[38;5;241m=\u001b[39mmodel,\n\u001b[1;32m----> 5\u001b[0m     idx\u001b[38;5;241m=\u001b[39m\u001b[43mtext_to_token_ids\u001b[49m(\u001b[38;5;124m\"\u001b[39m\u001b[38;5;124mEvery effort moves you\u001b[39m\u001b[38;5;124m\"\u001b[39m, tokenizer),\n\u001b[0;32m      6\u001b[0m     max_new_tokens\u001b[38;5;241m=\u001b[39m\u001b[38;5;241m15\u001b[39m,\n\u001b[0;32m      7\u001b[0m     context_size\u001b[38;5;241m=\u001b[39mGPT_CONFIG_124M[\u001b[38;5;124m\"\u001b[39m\u001b[38;5;124mcontext_length\u001b[39m\u001b[38;5;124m\"\u001b[39m],\n\u001b[0;32m      8\u001b[0m     top_k\u001b[38;5;241m=\u001b[39m\u001b[38;5;241m25\u001b[39m,\n\u001b[0;32m      9\u001b[0m     temperature\u001b[38;5;241m=\u001b[39m\u001b[38;5;241m1.4\u001b[39m\n\u001b[0;32m     10\u001b[0m )\n\u001b[0;32m     12\u001b[0m \u001b[38;5;28mprint\u001b[39m(\u001b[38;5;124m\"\u001b[39m\u001b[38;5;124mOutput text:\u001b[39m\u001b[38;5;130;01m\\n\u001b[39;00m\u001b[38;5;124m\"\u001b[39m, token_ids_to_text(token_ids, tokenizer))\n",
      "\u001b[1;31mNameError\u001b[0m: name 'text_to_token_ids' is not defined"
     ]
    }
   ],
   "source": [
    "torch.manual_seed(123)\n",
    "\n",
    "token_ids = generate(\n",
    "    model=model,\n",
    "    idx=text_to_token_ids(\"Every effort moves you\", tokenizer),\n",
    "    max_new_tokens=15,\n",
    "    context_size=GPT_CONFIG_124M[\"context_length\"],\n",
    "    top_k=25,\n",
    "    temperature=1.4\n",
    ")\n",
    "\n",
    "print(\"Output text:\\n\", token_ids_to_text(token_ids, tokenizer))"
   ]
  },
  {
   "cell_type": "code",
   "execution_count": null,
   "id": "e3ab83c5",
   "metadata": {},
   "outputs": [],
   "source": [
    "model_path = r\"./resources/model.pth\"\n",
    "torch.save(model.state_dict(), model_path)"
   ]
  }
 ],
 "metadata": {
  "kaggle": {
   "accelerator": "gpu",
   "dataSources": [
    {
     "datasetId": 6948723,
     "sourceId": 11139863,
     "sourceType": "datasetVersion"
    }
   ],
   "dockerImageVersionId": 30919,
   "isGpuEnabled": true,
   "isInternetEnabled": true,
   "language": "python",
   "sourceType": "notebook"
  },
  "kernelspec": {
   "display_name": "Python 3 (ipykernel)",
   "language": "python",
   "name": "python3"
  },
  "language_info": {
   "codemirror_mode": {
    "name": "ipython",
    "version": 3
   },
   "file_extension": ".py",
   "mimetype": "text/x-python",
   "name": "python",
   "nbconvert_exporter": "python",
   "pygments_lexer": "ipython3",
   "version": "3.10.7"
  }
 },
 "nbformat": 4,
 "nbformat_minor": 5
}
